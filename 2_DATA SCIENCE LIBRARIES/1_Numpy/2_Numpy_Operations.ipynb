{
 "cells": [
  {
   "cell_type": "markdown",
   "id": "860127a8-4c63-419b-b87b-89690d4e65e9",
   "metadata": {},
   "source": [
    "## 1. Creating Multi-dimentional Array"
   ]
  },
  {
   "cell_type": "code",
   "execution_count": 1,
   "id": "8a2de118-0512-45de-9fa5-c4a5fae10331",
   "metadata": {},
   "outputs": [
    {
     "name": "stdout",
     "output_type": "stream",
     "text": [
      "1D Array: [1 2 3 4 5] \n",
      "\n",
      "2D Array:\n",
      " [[1 2 3]\n",
      " [4 5 6]] \n",
      "\n"
     ]
    }
   ],
   "source": [
    "import numpy as np\n",
    "\n",
    "# Creating a 1D array\n",
    "arr1 = np.array([1, 2, 3, 4, 5])\n",
    "print(\"1D Array:\", arr1,\"\\n\")\n",
    "\n",
    "# Creating a 2D array\n",
    "arr2 = np.array([[1, 2, 3], [4, 5, 6]])\n",
    "print(\"2D Array:\\n\", arr2,\"\\n\")\n"
   ]
  },
  {
   "cell_type": "markdown",
   "id": "07437458-57f6-4271-81cc-1fe8e5bd276f",
   "metadata": {},
   "source": [
    "## 2. ndim Property(Number of Dimensions)"
   ]
  },
  {
   "cell_type": "code",
   "execution_count": 2,
   "id": "e8c36866-0df9-4e1c-8ae9-8bfb9501d43b",
   "metadata": {},
   "outputs": [
    {
     "name": "stdout",
     "output_type": "stream",
     "text": [
      "Number of dimensions of 1D array: 1\n",
      "Number of dimensions of 2D array: 2 \n",
      "\n"
     ]
    }
   ],
   "source": [
    "print(\"Number of dimensions of 1D array:\", arr1.ndim)\n",
    "print(\"Number of dimensions of 2D array:\", arr2.ndim,\"\\n\")"
   ]
  },
  {
   "cell_type": "markdown",
   "id": "bfe781f9-e5ab-4a4f-8106-a2948368bba7",
   "metadata": {},
   "source": [
    "## 3. Item Size Property"
   ]
  },
  {
   "cell_type": "code",
   "execution_count": 3,
   "id": "8cb5a25f-28f9-43ec-b022-37b9198086ac",
   "metadata": {},
   "outputs": [
    {
     "name": "stdout",
     "output_type": "stream",
     "text": [
      "Item size of 1D array: 8 bytes\n",
      "Item size of 2D array: 8 bytes\n",
      "\n"
     ]
    }
   ],
   "source": [
    "# Checking item size\n",
    "print(\"Item size of 1D array:\", arr1.itemsize, \"bytes\")\n",
    "print(\"Item size of 2D array:\", arr2.itemsize, \"bytes\\n\")\n"
   ]
  },
  {
   "cell_type": "markdown",
   "id": "58bd8c0b-3823-4865-87e3-292d1cb04115",
   "metadata": {},
   "source": [
    "## 4. dtype Property"
   ]
  },
  {
   "cell_type": "code",
   "execution_count": 5,
   "id": "b3dab02c-c44e-4c50-9de2-c57a0201ed99",
   "metadata": {},
   "outputs": [
    {
     "name": "stdout",
     "output_type": "stream",
     "text": [
      "Data type of 1D array: int64\n",
      "Data type of 2D array: int64 \n",
      "\n"
     ]
    }
   ],
   "source": [
    "# Checking data type\n",
    "print(\"Data type of 1D array:\", arr1.dtype)\n",
    "print(\"Data type of 2D array:\", arr2.dtype,\"\\n\")"
   ]
  },
  {
   "cell_type": "markdown",
   "id": "fcf5f990-61f3-40f8-9164-ae8450400bd7",
   "metadata": {},
   "source": [
    "## 5. Change Data Type of Elements"
   ]
  },
  {
   "cell_type": "code",
   "execution_count": 7,
   "id": "1ad891fe-cc01-4925-838a-adeac1737de0",
   "metadata": {},
   "outputs": [
    {
     "name": "stdout",
     "output_type": "stream",
     "text": [
      "Array with changed data type to float: [1. 2. 3. 4. 5.] \n",
      "\n"
     ]
    }
   ],
   "source": [
    "# Changing data type to float\n",
    "arr_float = arr1.astype(float)\n",
    "print(\"Array with changed data type to float:\", arr_float,\"\\n\")"
   ]
  },
  {
   "cell_type": "markdown",
   "id": "73108c93-32b2-469a-8e14-041d24ceb24f",
   "metadata": {},
   "source": [
    "## 6. Size Property"
   ]
  },
  {
   "cell_type": "code",
   "execution_count": 8,
   "id": "586342c5-21cf-4e96-9974-9b67bd6ff353",
   "metadata": {},
   "outputs": [
    {
     "name": "stdout",
     "output_type": "stream",
     "text": [
      "Size of 1D array: 5\n",
      "Size of 2D array: 6 \n",
      "\n"
     ]
    }
   ],
   "source": [
    "# Checking size\n",
    "print(\"Size of 1D array:\", arr1.size)\n",
    "print(\"Size of 2D array:\", arr2.size,\"\\n\")\n"
   ]
  },
  {
   "cell_type": "markdown",
   "id": "19282310-3b9b-4526-9850-c8daf95bc5dd",
   "metadata": {},
   "source": [
    "## 7. Shape Property"
   ]
  },
  {
   "cell_type": "code",
   "execution_count": 12,
   "id": "3547a032-2b55-479c-aef4-99cb0785fc97",
   "metadata": {},
   "outputs": [
    {
     "name": "stdout",
     "output_type": "stream",
     "text": [
      "[1 2 3 4 5] \n",
      "\n",
      "[[1 2 3]\n",
      " [4 5 6]] \n",
      "\n",
      "Shape of 1D array: (5,)\n",
      "Shape of 2D array: (2, 3) \n",
      "\n"
     ]
    }
   ],
   "source": [
    "# Checking shape\n",
    "print(arr1,\"\\n\")\n",
    "print(arr2,\"\\n\")\n",
    "print(\"Shape of 1D array:\", arr1.shape)\n",
    "print(\"Shape of 2D array:\", arr2.shape,\"\\n\")"
   ]
  },
  {
   "cell_type": "markdown",
   "id": "cc9d154d-b099-442c-a994-571eeb30fcbc",
   "metadata": {},
   "source": [
    "## 8. zeros() Function (Creating an Array Filled with Zeros)"
   ]
  },
  {
   "cell_type": "code",
   "execution_count": 18,
   "id": "746780ab-8fe5-4336-810e-0e74f2fe288a",
   "metadata": {},
   "outputs": [
    {
     "name": "stdout",
     "output_type": "stream",
     "text": [
      "Array of Zeros:\n",
      " [[0. 0. 0.]\n",
      " [0. 0. 0.]\n",
      " [0. 0. 0.]] \n",
      "\n"
     ]
    }
   ],
   "source": [
    "# Creating a 2D array of zeros\n",
    "arr_zeros = np.zeros((3, 3))\n",
    "print(\"Array of Zeros:\\n\", arr_zeros,\"\\n\")\n"
   ]
  },
  {
   "cell_type": "markdown",
   "id": "b82a4422-8563-4377-a79a-49dc2066e249",
   "metadata": {},
   "source": [
    "## 9. ones() Function"
   ]
  },
  {
   "cell_type": "code",
   "execution_count": 19,
   "id": "dcdb670f-3b71-4b8c-9de1-b4db622cdb41",
   "metadata": {},
   "outputs": [
    {
     "name": "stdout",
     "output_type": "stream",
     "text": [
      "Array of Ones:\n",
      " [[1. 1. 1.]\n",
      " [1. 1. 1.]\n",
      " [1. 1. 1.]] \n",
      "\n"
     ]
    }
   ],
   "source": [
    "# Creating a 2D array of ones\n",
    "arr_ones = np.ones((3, 3))\n",
    "print(\"Array of Ones:\\n\", arr_ones,\"\\n\")\n"
   ]
  },
  {
   "cell_type": "markdown",
   "id": "a93055c0-3441-402b-a515-11d0e61b4da1",
   "metadata": {},
   "source": [
    "## 10. arrange() Function [Creating a NumPy Array with a Range of Values]"
   ]
  },
  {
   "cell_type": "code",
   "execution_count": 20,
   "id": "627c52c7-cc85-4abe-bee1-2c860182b0ad",
   "metadata": {},
   "outputs": [
    {
     "name": "stdout",
     "output_type": "stream",
     "text": [
      "NumPy arange: [1 2 3 4 5 6 7 8 9]\n"
     ]
    }
   ],
   "source": [
    "# Creating a NumPy array with arange\n",
    "arr_range = np.arange(1, 10)\n",
    "print(\"NumPy arange:\", arr_range)\n"
   ]
  },
  {
   "cell_type": "markdown",
   "id": "561db358-32df-44ce-aaac-3f5543172c7f",
   "metadata": {},
   "source": [
    "## 11. linspace() Function [Creating Evenly Spaced Values in a Range]"
   ]
  },
  {
   "cell_type": "code",
   "execution_count": 21,
   "id": "56ec6da8-d976-4f1d-ad0c-6052b1924f30",
   "metadata": {},
   "outputs": [
    {
     "name": "stdout",
     "output_type": "stream",
     "text": [
      "NumPy linspace: [ 1.    3.25  5.5   7.75 10.  ]\n"
     ]
    }
   ],
   "source": [
    "# Creating an array with 5 values between 1 and 10\n",
    "arr_linspace = np.linspace(1, 10, 5)\n",
    "print(\"NumPy linspace:\", arr_linspace)\n"
   ]
  },
  {
   "cell_type": "markdown",
   "id": "d8fe0a27-be6d-440b-bc8c-f9b779e4ff7b",
   "metadata": {},
   "source": [
    "## 12. reshape() Function"
   ]
  },
  {
   "cell_type": "code",
   "execution_count": 23,
   "id": "6a8d9fc0-eaff-46fe-bf9b-60fa62f72497",
   "metadata": {},
   "outputs": [
    {
     "name": "stdout",
     "output_type": "stream",
     "text": [
      "Reshaped Array:\n",
      " [[1 2 3]\n",
      " [4 5 6]\n",
      " [7 8 9]]\n"
     ]
    }
   ],
   "source": [
    "# Reshaping a 1D array to 2D\n",
    "arr_reshaped = arr_range.reshape(3, 3)\n",
    "print(\"Reshaped Array:\\n\", arr_reshaped)\n"
   ]
  },
  {
   "cell_type": "markdown",
   "id": "8cb983e5-6143-46e2-a69b-d52a87e89b9f",
   "metadata": {},
   "source": [
    "## 13.  ravel() Function (Flattening an Array)"
   ]
  },
  {
   "cell_type": "code",
   "execution_count": 24,
   "id": "bad2fdc8-dc3d-4e1b-8583-45b97d10a63b",
   "metadata": {},
   "outputs": [
    {
     "name": "stdout",
     "output_type": "stream",
     "text": [
      "Flattened Array: [1 2 3 4 5 6 7 8 9]\n"
     ]
    }
   ],
   "source": [
    "# Flattening a 2D array back to 1D\n",
    "arr_flattened = arr_reshaped.ravel()\n",
    "print(\"Flattened Array:\", arr_flattened)\n"
   ]
  },
  {
   "cell_type": "markdown",
   "id": "2ca730e4-c161-4371-99e8-220ecdabbabd",
   "metadata": {},
   "source": [
    "## 14. min(), max() & sum() Function "
   ]
  },
  {
   "cell_type": "code",
   "execution_count": 27,
   "id": "a7b98d61-46b6-40c4-95d6-5cd5c4905c0f",
   "metadata": {},
   "outputs": [
    {
     "name": "stdout",
     "output_type": "stream",
     "text": [
      "Minimum value in array: 1\n",
      "Maximum value in array: 9\n",
      "Sum of array elements: 45\n"
     ]
    }
   ],
   "source": [
    "print(\"Minimum value in array:\", arr_range.min())\n",
    "print(\"Maximum value in array:\", arr_range.max())\n",
    "print(\"Sum of array elements:\", arr_range.sum())\n"
   ]
  },
  {
   "cell_type": "markdown",
   "id": "22c9f0d5-6787-46be-bf75-0e3e93d87b78",
   "metadata": {},
   "source": [
    "## 15. sqrt() Function (Square Root of Each Element in an Array)"
   ]
  },
  {
   "cell_type": "code",
   "execution_count": 28,
   "id": "c50a0513-8b9c-4593-a8d3-3046cc696db5",
   "metadata": {},
   "outputs": [
    {
     "name": "stdout",
     "output_type": "stream",
     "text": [
      "Square root of elements:\n",
      " [1.         1.41421356 1.73205081 2.         2.23606798 2.44948974\n",
      " 2.64575131 2.82842712 3.        ]\n"
     ]
    }
   ],
   "source": [
    "# Finding square root of each element\n",
    "arr_sqrt = np.sqrt(arr_range)\n",
    "print(\"Square root of elements:\\n\", arr_sqrt)"
   ]
  },
  {
   "cell_type": "markdown",
   "id": "986b28bd-02b4-457e-adda-62a6f36c812c",
   "metadata": {},
   "source": [
    "## 16. std() Function (Standard Deviation of Array Elements)"
   ]
  },
  {
   "cell_type": "code",
   "execution_count": 29,
   "id": "d7181a07-3045-4ecc-a640-1c15a4bf8d3f",
   "metadata": {},
   "outputs": [
    {
     "name": "stdout",
     "output_type": "stream",
     "text": [
      "Standard Deviation: 2.581988897471611\n"
     ]
    }
   ],
   "source": [
    "# Finding standard deviation\n",
    "print(\"Standard Deviation:\", arr_range.std())"
   ]
  },
  {
   "cell_type": "markdown",
   "id": "f0ee3a02-e4fb-4dad-8ac5-8cee9a8d7420",
   "metadata": {},
   "source": [
    "## 17. Array Operations"
   ]
  },
  {
   "cell_type": "code",
   "execution_count": 30,
   "id": "1086b3f0-5c91-4f5f-b10a-ca9cbbe7b419",
   "metadata": {},
   "outputs": [
    {
     "name": "stdout",
     "output_type": "stream",
     "text": [
      "Element-wise addition:\n",
      " [ 2.  3.  4.  5.  6.  7.  8.  9. 10.]\n",
      "Element-wise multiplication:\n",
      " [1. 2. 3. 4. 5. 6. 7. 8. 9.]\n"
     ]
    }
   ],
   "source": [
    "# Adding two arrays\n",
    "arr_add = arr_range + arr_ones.ravel()  # Adjusting dimensions\n",
    "print(\"Element-wise addition:\\n\", arr_add)\n",
    "\n",
    "# Multiplying two arrays\n",
    "arr_mul = arr_range * arr_ones.ravel()\n",
    "print(\"Element-wise multiplication:\\n\", arr_mul)\n"
   ]
  },
  {
   "cell_type": "markdown",
   "id": "0decf1e3-fc7b-4dfb-86db-f3b56027c96f",
   "metadata": {},
   "source": [
    "## 18. Matrix Products using dot() Function"
   ]
  },
  {
   "cell_type": "code",
   "execution_count": 31,
   "id": "3805247f-ec2a-4146-91ae-8fffff0b7e64",
   "metadata": {},
   "outputs": [
    {
     "name": "stdout",
     "output_type": "stream",
     "text": [
      "Matrix Product:\n",
      " [[19 22]\n",
      " [43 50]] \n",
      "\n",
      "\n"
     ]
    }
   ],
   "source": [
    "# Creating two matrices\n",
    "matrix1 = np.array([[1, 2], [3, 4]])\n",
    "matrix2 = np.array([[5, 6], [7, 8]])\n",
    "\n",
    "# Performing matrix multiplication (dot product)\n",
    "matrix_product = np.dot(matrix1, matrix2)\n",
    "print(\"Matrix Product:\\n\", matrix_product,\"\\n\\n\")\n"
   ]
  }
 ],
 "metadata": {
  "kernelspec": {
   "display_name": "Python 3 (ipykernel)",
   "language": "python",
   "name": "python3"
  },
  "language_info": {
   "codemirror_mode": {
    "name": "ipython",
    "version": 3
   },
   "file_extension": ".py",
   "mimetype": "text/x-python",
   "name": "python",
   "nbconvert_exporter": "python",
   "pygments_lexer": "ipython3",
   "version": "3.12.2"
  }
 },
 "nbformat": 4,
 "nbformat_minor": 5
}
