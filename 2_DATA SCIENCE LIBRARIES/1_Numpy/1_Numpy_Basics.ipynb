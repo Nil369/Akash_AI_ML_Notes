{
 "cells": [
  {
   "cell_type": "markdown",
   "id": "037d119c-cf93-4dab-a40d-d929b657fd55",
   "metadata": {},
   "source": [
    "# What is NumPy?\n",
    "\n",
    "🔷 **NumPy** is a powerful Python library used for numerical computations. It stands for **Numerical Python** and provides support for large, multi-dimensional arrays and matrices, along with a collection of mathematical functions to operate on these arrays.\n",
    "\n",
    "### Why is NumPy Important for Data Science (DS) and AIML?\n",
    "\n",
    "🔶 **`NumPy is Fast`**: NumPy's core is written in **C**, making it much faster than Python lists, especially for handling large datasets used in **DS** and **AIML**. It significantly reduces processing time when working with millions or billions of data points.\n",
    "\n",
    "🔶 **`Memory Efficiency`**: NumPy arrays are stored **contiguously in memory**, which improves performance by reducing memory overhead compared to Python lists that are scattered in memory.\n",
    "\n",
    "🔶 **`NumPy is Convenient`**: It provides a wide range of tools for **data manipulation** (reshaping, slicing, aggregating), making it extremely **convenient** for handling complex mathematical operations, without writing lengthy or complicated code.\n",
    "\n",
    "🔶 **`Vectorized Operations`**: NumPy supports **vectorized operations**, meaning operations on arrays can be done without using explicit loops, speeding up computations and reducing code complexity.\n",
    "\n",
    "🔶 **`Mathematical and Statistical Functions`**: It includes an extensive set of mathematical functions (linear algebra, statistics, etc.), crucial for building and optimizing **machine learning models**.\n",
    "\n",
    "### Key Features of NumPy\n",
    "\n",
    "🟢 **Multidimensional Arrays**: Supports creating arrays of any dimension (1D, 2D, 3D, etc.), making it suitable for handling structured data like images, sound, or tabular data.\n",
    "\n",
    "🟢 **Broadcasting**: NumPy allows operations between arrays of different shapes, known as **broadcasting**, which simplifies the code and enhances performance.\n",
    "\n",
    "🟢 **Integration with Other Libraries**: Most popular data science and AIML libraries like **Pandas**, **TensorFlow**, and **Scikit-learn** are built on top of or heavily rely on NumPy.\n",
    "\n",
    "🟢 **Interfacing with C/C++ and Fortran**: NumPy can integrate directly with low-level languages, providing a performance boost and allowing access to advanced computational libraries.\n",
    "\n",
    "---\n"
   ]
  },
  {
   "cell_type": "markdown",
   "id": "043025ef-fe5d-4c3c-9fe4-3b390d1a5f0d",
   "metadata": {},
   "source": [
    "# NumPy Array vs Python Lists:"
   ]
  },
  {
   "cell_type": "markdown",
   "id": "196e1e3b-defc-4f2a-9f69-ae199962ee95",
   "metadata": {},
   "source": [
    "### 1. Memory Efficiency"
   ]
  },
  {
   "cell_type": "code",
   "execution_count": 1,
   "id": "61c8e422-f408-4082-bc30-18fd59c5a08e",
   "metadata": {},
   "outputs": [],
   "source": [
    "import numpy as np\n",
    "import time \n",
    "import sys"
   ]
  },
  {
   "cell_type": "code",
   "execution_count": 2,
   "id": "76be11a5-8988-44da-95bc-0b57d96b95c4",
   "metadata": {},
   "outputs": [
    {
     "name": "stdout",
     "output_type": "stream",
     "text": [
      "28000\n"
     ]
    }
   ],
   "source": [
    "l = range(1000)\n",
    "print(sys.getsizeof(1)*len(l))"
   ]
  },
  {
   "cell_type": "code",
   "execution_count": 3,
   "id": "3e52dad1-792f-45eb-986f-8d0308320dae",
   "metadata": {},
   "outputs": [
    {
     "name": "stdout",
     "output_type": "stream",
     "text": [
      "8000\n"
     ]
    }
   ],
   "source": [
    "arr = np.arange(1000)\n",
    "print(arr.size*arr.itemsize)"
   ]
  },
  {
   "cell_type": "markdown",
   "id": "176b23f1-5622-496e-9639-78eac5ba13ef",
   "metadata": {},
   "source": [
   "<img src=\"https://www.researchgate.net/publication/344044674/figure/fig10/AS:931300496121865@1599050749620/NumPy-ndarray-vs-Python-list-Van.png\" align=\"center\">"
   ]
  },
  {
   "cell_type": "markdown",
   "id": "8ad6ef29-fb29-439b-a3db-d60251120bd3",
   "metadata": {},
   "source": [
    "### 2. NumPy is Fast"
   ]
  },
  {
   "cell_type": "code",
   "execution_count": 4,
   "id": "1e2c16ae-30fb-4887-86b8-4ae83770e155",
   "metadata": {},
   "outputs": [
    {
     "name": "stdout",
     "output_type": "stream",
     "text": [
      "Python List took: 70.0063705444336ms\n",
      "Numpy took: 1.9996166229248047ms\n"
     ]
    }
   ],
   "source": [
    "size = 1000000\n",
    "\n",
    "l1 = range(size)\n",
    "l2 = range(size)\n",
    "\n",
    "arr1 = np.arange(size)\n",
    "arr2 = np.arange(size)\n",
    "\n",
    "# Python List\n",
    "start = time.time()\n",
    "res = [(x+y) for x,y in zip(l1,l2)]\n",
    "print(f\"Python List took: {(time.time()-start)*1000}ms\")\n",
    "\n",
    "# Numpy Array\n",
    "start = time.time()\n",
    "res1 = arr1+arr2\n",
    "print(f\"Numpy took: {(time.time()-start)*1000}ms\")"
   ]
  },
  {
   "cell_type": "markdown",
   "id": "137e7171-66e9-4269-a17a-bfbf0681a65e",
   "metadata": {},
   "source": [
    "### NumPy is Convinient"
   ]
  },
  {
   "cell_type": "code",
   "execution_count": 5,
   "id": "62a5dcb9-48d0-4c26-a3c2-1c5f993e7c74",
   "metadata": {},
   "outputs": [
    {
     "name": "stdout",
     "output_type": "stream",
     "text": [
      "1D Array: [1 2 3 4 5] \n",
      "\n",
      "Reshaped 2D Array:\n",
      " [[1 2 3 4 5]] \n",
      "\n",
      "2D Array of Zeros:\n",
      " [[0. 0. 0.]\n",
      " [0. 0. 0.]\n",
      " [0. 0. 0.]] \n",
      "\n"
     ]
    }
   ],
   "source": [
    "arr = np.array([1, 2, 3, 4, 5])\n",
    "print(\"1D Array:\", arr,\"\\n\")\n",
    "\n",
    "# Reshaping to a 2D array (converting 1D to 2D)\n",
    "arr_reshaped = arr.reshape(1, 5)\n",
    "print(\"Reshaped 2D Array:\\n\", arr_reshaped,\"\\n\")\n",
    "\n",
    "# Creating a 2D array of zeros\n",
    "zeros_array = np.zeros((3, 3))\n",
    "print(\"2D Array of Zeros:\\n\", zeros_array,\"\\n\")"
   ]
  },
  {
   "cell_type": "markdown",
   "id": "a4abb764-1364-4329-8323-d475c23edf0b",
   "metadata": {},
   "source": [
    "- In `NumPy`, we can perform **mathematical operations** across an `entire array` **without writing explicit loops**."
   ]
  },
  {
   "cell_type": "code",
   "execution_count": 6,
   "id": "bb79827d-fe6f-4f02-ad77-6418a3cf2078",
   "metadata": {},
   "outputs": [
    {
     "name": "stdout",
     "output_type": "stream",
     "text": [
      "Element-wise Addition: [ 6  8 10 12] \n",
      "\n",
      "Element-wise Multiplication: [ 5 12 21 32] \n",
      "\n",
      "Exponential of each element: [ 2.71828183  7.3890561  20.08553692 54.59815003] \n",
      "\n"
     ]
    }
   ],
   "source": [
    "arr1 = np.array([1, 2, 3, 4])\n",
    "arr2 = np.array([5, 6, 7, 8])\n",
    "\n",
    "# Adding arrays element-wise\n",
    "result_add = arr1 + arr2\n",
    "print(\"Element-wise Addition:\", result_add,\"\\n\")\n",
    "\n",
    "# Multiplying arrays element-wise\n",
    "result_mul = arr1 * arr2\n",
    "print(\"Element-wise Multiplication:\", result_mul,\"\\n\")\n",
    "\n",
    "# Exponentiation\n",
    "result_exp = np.exp(arr1)\n",
    "print(\"Exponential of each element:\", result_exp,\"\\n\")"
   ]
  }
 ],
 "metadata": {
  "kernelspec": {
   "display_name": "Python 3 (ipykernel)",
   "language": "python",
   "name": "python3"
  },
  "language_info": {
   "codemirror_mode": {
    "name": "ipython",
    "version": 3
   },
   "file_extension": ".py",
   "mimetype": "text/x-python",
   "name": "python",
   "nbconvert_exporter": "python",
   "pygments_lexer": "ipython3",
   "version": "3.12.2"
  }
 },
 "nbformat": 4,
 "nbformat_minor": 5
}
