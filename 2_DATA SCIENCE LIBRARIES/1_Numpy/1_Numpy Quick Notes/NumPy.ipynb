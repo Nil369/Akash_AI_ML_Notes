{
 "cells": [
  {
   "cell_type": "markdown",
   "id": "4acecfd0-0894-4bc6-ba2a-25c53a23ef18",
   "metadata": {},
   "source": [
    "# NumPy Quick Notes"
   ]
  },
  {
   "cell_type": "code",
   "execution_count": 1,
   "id": "ca2de6a1-638f-4219-96fe-1943561349d7",
   "metadata": {},
   "outputs": [],
   "source": [
    "import numpy as np"
   ]
  },
  {
   "cell_type": "code",
   "execution_count": 2,
   "id": "315a4a20-7416-4427-bcc7-219b4adf8c63",
   "metadata": {},
   "outputs": [],
   "source": [
    "myarr = np.array([[3,6,46,44,32,36]],np.int64)"
   ]
  },
  {
   "cell_type": "code",
   "execution_count": 3,
   "id": "650933ba-7290-4962-8158-54b5e2c211d2",
   "metadata": {},
   "outputs": [
    {
     "data": {
      "text/plain": [
       "array([[ 3,  6, 46, 44, 32, 36]])"
      ]
     },
     "execution_count": 3,
     "metadata": {},
     "output_type": "execute_result"
    }
   ],
   "source": [
    "myarr"
   ]
  },
  {
   "cell_type": "code",
   "execution_count": 4,
   "id": "b1176dff-87b9-4a04-8b88-9368fbeeca41",
   "metadata": {},
   "outputs": [
    {
     "data": {
      "text/plain": [
       "dtype('int64')"
      ]
     },
     "execution_count": 4,
     "metadata": {},
     "output_type": "execute_result"
    }
   ],
   "source": [
    "myarr.dtype"
   ]
  },
  {
   "cell_type": "code",
   "execution_count": 5,
   "id": "9fa117b2-a6ec-4d9c-8f62-4dd257f1d52a",
   "metadata": {},
   "outputs": [
    {
     "name": "stdout",
     "output_type": "stream",
     "text": [
      "6 \n",
      "\n"
     ]
    },
    {
     "data": {
      "text/plain": [
       "array([[ 3, 45, 46, 44, 32, 36]])"
      ]
     },
     "execution_count": 5,
     "metadata": {},
     "output_type": "execute_result"
    }
   ],
   "source": [
    "print(myarr[0,1],\"\\n\")\n",
    "myarr[0,1]=45\n",
    "myarr"
   ]
  },
  {
   "cell_type": "markdown",
   "id": "4c227075-a16b-4032-8ad9-6f49b801e326",
   "metadata": {},
   "source": [
    "# Array Creation & Operations"
   ]
  },
  {
   "cell_type": "markdown",
   "id": "f00d9d93-9038-40a3-8077-cf68ef139864",
   "metadata": {},
   "source": [
    "- ***Conversion from other python Data Structures***"
   ]
  },
  {
   "cell_type": "code",
   "execution_count": 6,
   "id": "b9d2d70c-3d39-4070-a675-4bcb3010ca05",
   "metadata": {},
   "outputs": [
    {
     "data": {
      "text/plain": [
       "array([[ 1,  2,  3],\n",
       "       [ 6,  9,  7],\n",
       "       [33, 44, 55]])"
      ]
     },
     "execution_count": 6,
     "metadata": {},
     "output_type": "execute_result"
    }
   ],
   "source": [
    "listarr = np.array([[1,2,3],[6,9,7],[33,44,55]])\n",
    "listarr"
   ]
  },
  {
   "cell_type": "code",
   "execution_count": 7,
   "id": "73f2a2fa-187a-4a86-8d31-5ac2e153b08b",
   "metadata": {},
   "outputs": [
    {
     "name": "stdout",
     "output_type": "stream",
     "text": [
      "int64\n",
      "(3, 3)\n",
      "9\n"
     ]
    }
   ],
   "source": [
    "print(listarr.dtype)\n",
    "print(listarr.shape)\n",
    "print(listarr.size)"
   ]
  },
  {
   "cell_type": "code",
   "execution_count": 8,
   "id": "9e058921-e776-49ca-8990-dab1bdbb1aa7",
   "metadata": {},
   "outputs": [
    {
     "name": "stdout",
     "output_type": "stream",
     "text": [
      "{32, 34, 36, 23} d-type= object\n"
     ]
    }
   ],
   "source": [
    "dict_arr = np.array({23,34,32,36,36})\n",
    "print(dict_arr,\"d-type=\",dict_arr.dtype)"
   ]
  },
  {
   "cell_type": "markdown",
   "id": "e833cecd-c130-45be-bf7f-5a572659f441",
   "metadata": {},
   "source": [
    "- ***Intrinsic Numpy Array Creation Object***"
   ]
  },
  {
   "cell_type": "code",
   "execution_count": 9,
   "id": "b7df47e3-0b7e-4417-84b3-60bfd974072e",
   "metadata": {},
   "outputs": [
    {
     "data": {
      "text/plain": [
       "array([[0., 0., 0., 0., 0.],\n",
       "       [0., 0., 0., 0., 0.]])"
      ]
     },
     "execution_count": 9,
     "metadata": {},
     "output_type": "execute_result"
    }
   ],
   "source": [
    "zeros = np.zeros((2,5))\n",
    "zeros"
   ]
  },
  {
   "cell_type": "code",
   "execution_count": 10,
   "id": "1f30e412-be05-462d-81bc-6dea04c74d9d",
   "metadata": {},
   "outputs": [
    {
     "data": {
      "text/plain": [
       "array([[1., 1., 1., 1., 1.],\n",
       "       [1., 1., 1., 1., 1.]])"
      ]
     },
     "execution_count": 10,
     "metadata": {},
     "output_type": "execute_result"
    }
   ],
   "source": [
    "ones = np.ones((2,5))\n",
    "ones"
   ]
  },
  {
   "cell_type": "code",
   "execution_count": 11,
   "id": "5f8f93c2-7c27-4a84-be33-197585ef475d",
   "metadata": {},
   "outputs": [
    {
     "data": {
      "text/plain": [
       "array([ 0,  1,  2,  3,  4,  5,  6,  7,  8,  9, 10, 11, 12, 13, 14])"
      ]
     },
     "execution_count": 11,
     "metadata": {},
     "output_type": "execute_result"
    }
   ],
   "source": [
    "rng = np.arange(15)\n",
    "rng"
   ]
  },
  {
   "cell_type": "markdown",
   "id": "7f68ee2b-ccbb-430d-b309-814968e324e2",
   "metadata": {},
   "source": [
    "- ***Numpy Array Methods***"
   ]
  },
  {
   "cell_type": "code",
   "execution_count": 12,
   "id": "56b4582d-8a16-43c4-a767-dcf33aa9544e",
   "metadata": {},
   "outputs": [
    {
     "data": {
      "text/plain": [
       "array([1.        , 2.33333333, 3.66666667, 5.        ])"
      ]
     },
     "execution_count": 12,
     "metadata": {},
     "output_type": "execute_result"
    }
   ],
   "source": [
    "lspace = np.linspace(1,5,4)\n",
    "lspace"
   ]
  },
  {
   "cell_type": "code",
   "execution_count": 13,
   "id": "862a157f-5f14-49d0-b559-ae8bb026ea6e",
   "metadata": {},
   "outputs": [
    {
     "data": {
      "text/plain": [
       "array([[7.68754700e-312, 2.86558075e-322, 0.00000000e+000,\n",
       "        0.00000000e+000, 1.11260619e-306, 1.61590357e+184],\n",
       "       [7.73304497e-091, 1.53404729e-075, 1.26867196e-076,\n",
       "        3.31184478e-033, 6.48224659e+170, 5.82471487e+257]])"
      ]
     },
     "execution_count": 13,
     "metadata": {},
     "output_type": "execute_result"
    }
   ],
   "source": [
    "emp = np.empty((2,6))\n",
    "emp"
   ]
  },
  {
   "cell_type": "code",
   "execution_count": 14,
   "id": "2eee8e61-2bef-47af-b6c5-1d87f3b2889c",
   "metadata": {},
   "outputs": [
    {
     "data": {
      "text/plain": [
       "array([1.        , 2.33333333, 3.66666667, 5.        ])"
      ]
     },
     "execution_count": 14,
     "metadata": {},
     "output_type": "execute_result"
    }
   ],
   "source": [
    "emp_like = np.empty_like(lspace)\n",
    "emp_like"
   ]
  },
  {
   "cell_type": "code",
   "execution_count": 15,
   "id": "a67d9085-79c2-4e23-ab8b-acfdec2e2740",
   "metadata": {},
   "outputs": [
    {
     "name": "stdout",
     "output_type": "stream",
     "text": [
      "[[1. 0. 0. ... 0. 0. 0.]\n",
      " [0. 1. 0. ... 0. 0. 0.]\n",
      " [0. 0. 1. ... 0. 0. 0.]\n",
      " ...\n",
      " [0. 0. 0. ... 1. 0. 0.]\n",
      " [0. 0. 0. ... 0. 1. 0.]\n",
      " [0. 0. 0. ... 0. 0. 1.]] \n",
      "\n",
      "(45, 45)\n"
     ]
    }
   ],
   "source": [
    "ide = np.identity(45)\n",
    "print(ide,\"\\n\")\n",
    "print(ide.shape)"
   ]
  },
  {
   "cell_type": "code",
   "execution_count": 16,
   "id": "417108df-ebc6-4214-a3f8-55d747614d78",
   "metadata": {},
   "outputs": [
    {
     "name": "stdout",
     "output_type": "stream",
     "text": [
      "[ 0  1  2  3  4  5  6  7  8  9 10 11 12 13 14 15 16 17 18 19 20 21 22 23\n",
      " 24 25 26 27 28 29 30 31 32 33 34 35 36 37 38 39 40 41 42 43 44 45 46 47\n",
      " 48 49 50 51 52 53 54 55 56 57 58 59 60 61 62 63 64 65 66 67 68 69 70 71\n",
      " 72 73 74 75 76 77 78 79 80 81 82 83 84 85 86 87 88 89 90 91 92 93 94 95\n",
      " 96 97 98] \n",
      "\n",
      "===== Reshaped Array =====\n",
      "[[ 0  1  2  3  4  5  6  7  8  9 10 11 12 13 14 15 16 17 18 19 20 21 22 23\n",
      "  24 25 26 27 28 29 30 31 32]\n",
      " [33 34 35 36 37 38 39 40 41 42 43 44 45 46 47 48 49 50 51 52 53 54 55 56\n",
      "  57 58 59 60 61 62 63 64 65]\n",
      " [66 67 68 69 70 71 72 73 74 75 76 77 78 79 80 81 82 83 84 85 86 87 88 89\n",
      "  90 91 92 93 94 95 96 97 98]]\n"
     ]
    }
   ],
   "source": [
    "arr = np.arange(99)\n",
    "print(arr,\"\\n\")\n",
    "print(\"=\"*5,\"Reshaped Array\",\"=\"*5)\n",
    "print(arr.reshape(3,33))"
   ]
  },
  {
   "cell_type": "code",
   "execution_count": 17,
   "id": "0e15eb7b-112a-428f-8197-377aa23fe1d4",
   "metadata": {},
   "outputs": [
    {
     "name": "stdout",
     "output_type": "stream",
     "text": [
      "[ 0  1  2  3  4  5  6  7  8  9 10 11 12 13 14 15 16 17 18 19 20 21 22 23\n",
      " 24 25 26 27 28 29 30 31 32 33 34 35 36 37 38 39 40 41 42 43 44 45 46 47\n",
      " 48 49 50 51 52 53 54 55 56 57 58 59 60 61 62 63 64 65 66 67 68 69 70 71\n",
      " 72 73 74 75 76 77 78 79 80 81 82 83 84 85 86 87 88 89 90 91 92 93 94 95\n",
      " 96 97 98] \n",
      "\n",
      "(99,)\n"
     ]
    }
   ],
   "source": [
    "print(arr.ravel(),\"\\n\")\n",
    "print(arr.shape)"
   ]
  },
  {
   "cell_type": "markdown",
   "id": "0fc9039e-6b61-4196-8bc9-8df7a602adb9",
   "metadata": {},
   "source": [
    "---"
   ]
  },
  {
   "cell_type": "markdown",
   "id": "1ffd3276-9d20-4031-8ac6-bfcd49d5375d",
   "metadata": {},
   "source": [
    "### Axis in NumPy"
   ]
  },
  {
   "cell_type": "markdown",
   "id": "8d0e0526-b5ca-4d06-8082-9ddd54e06081",
   "metadata": {},
   "source": [
    "- ***Axis 0: Row wise Operations/ Operations in row direction***\n",
    "- ***Axis 1: Column wise Operations/ Operation in column direction***"
   ]
  },
  {
   "cell_type": "code",
   "execution_count": 18,
   "id": "f0b90bc0-0e21-4ef9-8bda-8d8d5ef790c3",
   "metadata": {},
   "outputs": [
    {
     "name": "stdout",
     "output_type": "stream",
     "text": [
      "[[1 2 3]\n",
      " [4 5 6]\n",
      " [7 1 0]] \n",
      "\n",
      "Row-Wise Sum:  [12  8  9]\n",
      "Column-Wise Sum:  [ 6 15  8]\n"
     ]
    }
   ],
   "source": [
    "x = [[1,2,3],[4,5,6],[7,1,0]]\n",
    "ar = np.array(x)\n",
    "print(ar,\"\\n\")\n",
    "\n",
    "print(\"Row-Wise Sum: \",ar.sum(axis=0))\n",
    "print(\"Column-Wise Sum: \",ar.sum(axis=1))"
   ]
  },
  {
   "cell_type": "code",
   "execution_count": 19,
   "id": "4cd89f57-cf6c-4407-a177-78f7eb662add",
   "metadata": {},
   "outputs": [
    {
     "name": "stdout",
     "output_type": "stream",
     "text": [
      "Transpose of Matrix:\n",
      " [[1 4 7]\n",
      " [2 5 1]\n",
      " [3 6 0]]\n"
     ]
    }
   ],
   "source": [
    "print(\"Transpose of Matrix:\\n\",ar.T)"
   ]
  },
  {
   "cell_type": "markdown",
   "id": "a84e3f3c-8fa6-403a-9b60-2f6d83713309",
   "metadata": {},
   "source": [
    "- ***arg-min & arg-max***"
   ]
  },
  {
   "cell_type": "code",
   "execution_count": 20,
   "id": "49118842-6835-4d24-b7fd-19eb01ca1672",
   "metadata": {},
   "outputs": [
    {
     "name": "stdout",
     "output_type": "stream",
     "text": [
      "3\n",
      "0\n"
     ]
    }
   ],
   "source": [
    "one = np.array([1,3,4,69,2,5])\n",
    "print(one.argmax()) # Prints the index where is the max value\n",
    "print(one.argmin()) # Prints the index where is the min value"
   ]
  },
  {
   "cell_type": "code",
   "execution_count": 21,
   "id": "caccb8ce-d564-4a47-b4f8-0c45e2366238",
   "metadata": {},
   "outputs": [
    {
     "data": {
      "text/plain": [
       "array([0, 4, 1, 2, 5, 3])"
      ]
     },
     "execution_count": 21,
     "metadata": {},
     "output_type": "execute_result"
    }
   ],
   "source": [
    "one.argsort()"
   ]
  }
 ],
 "metadata": {
  "kernelspec": {
   "display_name": "Python 3 (ipykernel)",
   "language": "python",
   "name": "python3"
  },
  "language_info": {
   "codemirror_mode": {
    "name": "ipython",
    "version": 3
   },
   "file_extension": ".py",
   "mimetype": "text/x-python",
   "name": "python",
   "nbconvert_exporter": "python",
   "pygments_lexer": "ipython3",
   "version": "3.12.2"
  }
 },
 "nbformat": 4,
 "nbformat_minor": 5
}
