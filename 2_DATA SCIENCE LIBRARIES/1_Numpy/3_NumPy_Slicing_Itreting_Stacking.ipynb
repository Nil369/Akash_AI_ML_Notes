{
 "cells": [
  {
   "cell_type": "markdown",
   "id": "fc72a4e8-f8ac-4f9a-b221-a3c6675cfbfc",
   "metadata": {},
   "source": [
    "<h1 style=\"color: blueviolet;\">1. What is Indexing and Slicing?</h1>\n",
    "\n",
    "- <span style=\"background-color: #f0f0f0; color:Tomato; font-weight:500;border-radius:5px;\"><em>Indexing</em>:</span> Accessing individual elements of an array using their **index positions**.\n",
    "- <span style=\"background-color: #f0f0f0; color:Tomato; font-weight:500;border-radius:5px;\"><em>Slicing</em>:</span> Accessing a subset of an array by specifying a **range** of indices."
   ]
  },
  {
   "cell_type": "code",
   "execution_count": 1,
   "id": "a97cad3c-33b0-4187-928d-1949309af162",
   "metadata": {},
   "outputs": [
    {
     "name": "stdout",
     "output_type": "stream",
     "text": [
      "[6, 7]\n",
      "8 \n",
      "\n"
     ]
    }
   ],
   "source": [
    "# In Lists:\n",
    "l1 = [6,7,8]\n",
    "print(l1[0:2])\n",
    "print(l1[-1],\"\\n\")"
   ]
  },
  {
   "cell_type": "code",
   "execution_count": 2,
   "id": "f94ed3f1-ee5a-4338-b28c-4937d887a6e7",
   "metadata": {},
   "outputs": [
    {
     "name": "stdout",
     "output_type": "stream",
     "text": [
      "[6 7]\n",
      "8 \n",
      "\n"
     ]
    }
   ],
   "source": [
    "# Similarly in NumPy Array:\n",
    "import numpy as np\n",
    "arr = np.array([6,7,8])\n",
    "print(arr[0:2])\n",
    "print(arr[-1],\"\\n\")"
   ]
  },
  {
   "cell_type": "markdown",
   "id": "04166549-daea-4770-a37a-dd18846ef9be",
   "metadata": {},
   "source": [
    "- <h4>In MultiDimentional Array</h4>"
   ]
  },
  {
   "cell_type": "code",
   "execution_count": 3,
   "id": "db8cfaa9-ec87-4044-a8bc-53eaef4a8ac4",
   "metadata": {},
   "outputs": [
    {
     "name": "stdout",
     "output_type": "stream",
     "text": [
      "[[6 7 8]\n",
      " [1 2 3]\n",
      " [9 3 2]] \n",
      "\n",
      "3\n",
      "[8 3]\n",
      "[9 3 2]\n",
      "[9 3]\n",
      "[[7 8]\n",
      " [2 3]\n",
      " [3 2]]\n"
     ]
    }
   ],
   "source": [
    "arr1 = np.array([[6,7,8],[1,2,3],[9,3,2]])\n",
    "print(arr1,\"\\n\")\n",
    "\n",
    "#        row,column \n",
    "print(arr1[1,2])\n",
    "print(arr1[0:2,2])\n",
    "print(arr1[-1])\n",
    "print(arr1[-1,:2])\n",
    "print(arr1[:,1:3])\n"
   ]
  },
  {
   "cell_type": "markdown",
   "id": "954fbbed-c8cf-4d4f-81fb-258722fcb2ee",
   "metadata": {},
   "source": [
    "<h1 style=\"color: DodgerBlue\">2. Itreting through an Array</h1>"
   ]
  },
  {
   "cell_type": "code",
   "execution_count": 4,
   "id": "cda686f0-ee5c-4f0a-a8da-f95a9263a3d1",
   "metadata": {},
   "outputs": [
    {
     "name": "stdout",
     "output_type": "stream",
     "text": [
      "[6 7 8]\n",
      "[1 2 3]\n",
      "[9 3 2]\n"
     ]
    }
   ],
   "source": [
    "arr = np.array([[6,7,8],[1,2,3],[9,3,2]])\n",
    "for row in arr:\n",
    "    print(row)"
   ]
  },
  {
   "cell_type": "code",
   "execution_count": 5,
   "id": "d4d43699-176f-4c86-9960-f66a4f0d029d",
   "metadata": {},
   "outputs": [
    {
     "data": {
      "text/plain": [
       "array([[ 0,  1,  2,  3],\n",
       "       [ 4,  5,  6,  7],\n",
       "       [ 8,  9, 10, 11]])"
      ]
     },
     "execution_count": 5,
     "metadata": {},
     "output_type": "execute_result"
    }
   ],
   "source": [
    "a = np.arange(12).reshape(3,4)\n",
    "a"
   ]
  },
  {
   "cell_type": "markdown",
   "id": "9a2498bf-3296-4962-a477-b591a8df98ee",
   "metadata": {},
   "source": [
    "- <h4 style=\"color:SlateBlue\">Using normal for loop iteration</h4>"
   ]
  },
  {
   "cell_type": "code",
   "execution_count": 6,
   "id": "629e2b7e-b599-413b-bd52-5242df41cd6c",
   "metadata": {},
   "outputs": [
    {
     "name": "stdout",
     "output_type": "stream",
     "text": [
      "0\n",
      "1\n",
      "2\n",
      "3\n",
      "4\n",
      "5\n",
      "6\n",
      "7\n",
      "8\n",
      "9\n",
      "10\n",
      "11\n"
     ]
    }
   ],
   "source": [
    "for row in a:\n",
    "    for cell in row:\n",
    "        print(cell)"
   ]
  },
  {
   "cell_type": "markdown",
   "id": "6b78e929-d5bd-4d03-8d6a-6bd617296343",
   "metadata": {},
   "source": [
    "- <h4 style=\"color:SlateBlue\">For loop with flatten</h4>"
   ]
  },
  {
   "cell_type": "code",
   "execution_count": 7,
   "id": "1fc8faf5-464b-44c7-92a5-02c0eb3c602e",
   "metadata": {},
   "outputs": [
    {
     "name": "stdout",
     "output_type": "stream",
     "text": [
      "0\n",
      "1\n",
      "2\n",
      "3\n",
      "4\n",
      "5\n",
      "6\n",
      "7\n",
      "8\n",
      "9\n",
      "10\n",
      "11\n"
     ]
    }
   ],
   "source": [
    "for cell in a.flatten():\n",
    "    print(cell)"
   ]
  },
  {
   "cell_type": "markdown",
   "id": "8040f96d-1308-4f12-8cfa-d415964e61ac",
   "metadata": {},
   "source": [
    "<h2 style=\"color: MediumSeaGreen; text-align: center;font-weight:700\">nditer()</h2>"
   ]
  },
  {
   "cell_type": "markdown",
   "id": "790676ae-58bc-4da5-bd3f-af7bfbe6ee7f",
   "metadata": {},
   "source": [
    "<img src=\"order.png\" width=\"200\" style=\" display: block;margin-left: auto;margin-right: auto;width: 50%;\">"
   ]
  },
  {
   "cell_type": "markdown",
   "id": "3bb2e327-2a1a-4165-9248-7d188bd28a1a",
   "metadata": {},
   "source": [
    "- <h4 style=\"color:SlateBlue\">C style ordering</h4>"
   ]
  },
  {
   "cell_type": "code",
   "execution_count": 8,
   "id": "f276b2f8-318b-4967-953b-4f9d3da71718",
   "metadata": {},
   "outputs": [
    {
     "name": "stdout",
     "output_type": "stream",
     "text": [
      "0\n",
      "1\n",
      "2\n",
      "3\n",
      "4\n",
      "5\n",
      "6\n",
      "7\n",
      "8\n",
      "9\n",
      "10\n",
      "11\n"
     ]
    }
   ],
   "source": [
    "for x in np.nditer(a, order='C'):\n",
    "    print(x)"
   ]
  },
  {
   "cell_type": "markdown",
   "id": "a3d5cef7-b016-4834-90ac-e40a5aeb35c1",
   "metadata": {},
   "source": [
    "- <h4 style=\"color:SlateBlue\">F style ordering</h4>"
   ]
  },
  {
   "cell_type": "code",
   "execution_count": 9,
   "id": "ed80463e-abd8-4eed-9f12-8061b4efc15d",
   "metadata": {},
   "outputs": [
    {
     "name": "stdout",
     "output_type": "stream",
     "text": [
      "0\n",
      "4\n",
      "8\n",
      "1\n",
      "5\n",
      "9\n",
      "2\n",
      "6\n",
      "10\n",
      "3\n",
      "7\n",
      "11\n"
     ]
    }
   ],
   "source": [
    "for x in np.nditer(a, order='F'):\n",
    "    print(x)"
   ]
  },
  {
   "cell_type": "markdown",
   "id": "cb3bb9e1-226e-47e9-8e24-9f5f0eaf4da3",
   "metadata": {},
   "source": [
    "- <h4 style=\"color:SlateBlue\">External Loop</h4>"
   ]
  },
  {
   "cell_type": "code",
   "execution_count": 10,
   "id": "9c76de74-4887-4418-90a0-d49201e4ea83",
   "metadata": {},
   "outputs": [
    {
     "name": "stdout",
     "output_type": "stream",
     "text": [
      "[0 4 8]\n",
      "[1 5 9]\n",
      "[ 2  6 10]\n",
      "[ 3  7 11]\n"
     ]
    }
   ],
   "source": [
    "for x in np.nditer(a, flags=['external_loop'],order='F'):\n",
    "    print(x)"
   ]
  },
  {
   "cell_type": "markdown",
   "id": "549729b4-37c8-411d-ade9-b0a2906eb6ad",
   "metadata": {},
   "source": [
    "- <h3 style=\"color:SlateBlue\">Modifying array values while iterating</h3>"
   ]
  },
  {
   "cell_type": "code",
   "execution_count": 11,
   "id": "8df03e73-6ee1-4531-a0b2-025775cb7693",
   "metadata": {},
   "outputs": [
    {
     "data": {
      "text/plain": [
       "array([[  0,   1,   4,   9],\n",
       "       [ 16,  25,  36,  49],\n",
       "       [ 64,  81, 100, 121]])"
      ]
     },
     "execution_count": 11,
     "metadata": {},
     "output_type": "execute_result"
    }
   ],
   "source": [
    "for x in np.nditer(a, op_flags=['readwrite']):\n",
    "    x[...] = x * x\n",
    "a"
   ]
  },
  {
   "cell_type": "markdown",
   "id": "edadd1a7-e72b-4e7a-bb29-48f623b4fbde",
   "metadata": {},
   "source": [
    "- <h3 style=\"color:SlateBlue\">Iterate two broadcastable arrays concurrently</h3>"
   ]
  },
  {
   "cell_type": "code",
   "execution_count": 12,
   "id": "ee85ad8a-6a62-4a26-8e8c-3cb0c5a2e8bd",
   "metadata": {},
   "outputs": [
    {
     "data": {
      "text/plain": [
       "array([[ 3],\n",
       "       [ 7],\n",
       "       [11]])"
      ]
     },
     "execution_count": 12,
     "metadata": {},
     "output_type": "execute_result"
    }
   ],
   "source": [
    "b = np.arange(3, 15, 4).reshape(3,1)\n",
    "b"
   ]
  },
  {
   "cell_type": "code",
   "execution_count": 13,
   "id": "8824e760-aa74-40be-b731-00faef559c9c",
   "metadata": {},
   "outputs": [
    {
     "name": "stdout",
     "output_type": "stream",
     "text": [
      "0 3\n",
      "1 3\n",
      "4 3\n",
      "9 3\n",
      "16 7\n",
      "25 7\n",
      "36 7\n",
      "49 7\n",
      "64 11\n",
      "81 11\n",
      "100 11\n",
      "121 11\n"
     ]
    }
   ],
   "source": [
    "for x, y in np.nditer([a,b]):\n",
    "    print (x,y)"
   ]
  },
  {
   "cell_type": "markdown",
   "id": "9aee42a1-e060-4738-a35b-ffa475fff4be",
   "metadata": {},
   "source": [
    "<h1 style=\"color:salmon\">3. Stacking NumPy Arrays</h1>"
   ]
  },
  {
   "cell_type": "code",
   "execution_count": 14,
   "id": "8757ac61-b658-4537-8b2e-e08714a53310",
   "metadata": {},
   "outputs": [
    {
     "name": "stdout",
     "output_type": "stream",
     "text": [
      "arr1:\n",
      " [[0 1]\n",
      " [2 3]\n",
      " [4 5]] \n",
      "\n",
      "arr2:\n",
      " [[ 6  7]\n",
      " [ 8  9]\n",
      " [10 11]]\n"
     ]
    }
   ],
   "source": [
    "arr1 = np.arange(6).reshape(3,2)\n",
    "arr2 = np.arange(6,12).reshape(3,2)\n",
    "print(\"arr1:\\n\",arr1,\"\\n\")\n",
    "print(\"arr2:\\n\",arr2)"
   ]
  },
  {
   "cell_type": "code",
   "execution_count": 15,
   "id": "8e5ebbba-60ce-4073-a1cc-99e61484a1fe",
   "metadata": {},
   "outputs": [
    {
     "data": {
      "text/plain": [
       "array([[ 0,  1],\n",
       "       [ 2,  3],\n",
       "       [ 4,  5],\n",
       "       [ 6,  7],\n",
       "       [ 8,  9],\n",
       "       [10, 11]])"
      ]
     },
     "execution_count": 15,
     "metadata": {},
     "output_type": "execute_result"
    }
   ],
   "source": [
    "np.vstack((arr1,arr2))"
   ]
  },
  {
   "cell_type": "code",
   "execution_count": 16,
   "id": "ed107bb3-f5c6-4702-ae79-69220da9420e",
   "metadata": {},
   "outputs": [
    {
     "data": {
      "text/plain": [
       "array([[ 0,  1,  6,  7],\n",
       "       [ 2,  3,  8,  9],\n",
       "       [ 4,  5, 10, 11]])"
      ]
     },
     "execution_count": 16,
     "metadata": {},
     "output_type": "execute_result"
    }
   ],
   "source": [
    "np.hstack((arr1,arr2))"
   ]
  },
  {
   "cell_type": "code",
   "execution_count": 17,
   "id": "806c6530-1f88-42b2-a9e9-6ee03028f5f1",
   "metadata": {},
   "outputs": [
    {
     "name": "stdout",
     "output_type": "stream",
     "text": [
      "[[ 0  1  2  3  4]\n",
      " [15 16 17 18 19]] \n",
      "\n",
      "[[ 5  6  7  8  9]\n",
      " [20 21 22 23 24]] \n",
      "\n",
      "[[10 11 12 13 14]\n",
      " [25 26 27 28 29]] \n",
      "\n"
     ]
    }
   ],
   "source": [
    "arr3 = np.arange(30).reshape(2,15)\n",
    "res = np.hsplit(arr3,3)\n",
    "print(res[0],\"\\n\")\n",
    "print(res[1],\"\\n\")\n",
    "print(res[2],\"\\n\")"
   ]
  },
  {
   "cell_type": "code",
   "execution_count": 18,
   "id": "1d94ae4c-a003-42fb-9999-988a9aeb922e",
   "metadata": {},
   "outputs": [
    {
     "name": "stdout",
     "output_type": "stream",
     "text": [
      "[[ 0  1  2  3  4  5  6  7  8  9 10 11 12 13 14]] \n",
      "\n",
      "[[15 16 17 18 19 20 21 22 23 24 25 26 27 28 29]] \n",
      "\n"
     ]
    }
   ],
   "source": [
    "res = np.vsplit(arr3,2)\n",
    "print(res[0],\"\\n\")\n",
    "print(res[1],\"\\n\")"
   ]
  },
  {
   "cell_type": "markdown",
   "id": "69451e6c-a73b-4381-970e-584b0ecd64b8",
   "metadata": {},
   "source": [
    "<h1 style=\"color:DarkSlateBlue\">4. Indexing with Boolean Arrays</h1>"
   ]
  },
  {
   "cell_type": "code",
   "execution_count": 19,
   "id": "3a97d4a7-000e-4576-9f6a-94f7d18fb733",
   "metadata": {},
   "outputs": [
    {
     "data": {
      "text/plain": [
       "array([[ 0,  1,  2,  3],\n",
       "       [ 4,  5,  6,  7],\n",
       "       [ 8,  9, 10, 11]])"
      ]
     },
     "execution_count": 19,
     "metadata": {},
     "output_type": "execute_result"
    }
   ],
   "source": [
    "arr = np.arange(12).reshape(3,4)\n",
    "arr"
   ]
  },
  {
   "cell_type": "code",
   "execution_count": 20,
   "id": "b73c0b06-049f-4b9d-b1e9-d500645845d0",
   "metadata": {},
   "outputs": [
    {
     "data": {
      "text/plain": [
       "array([[False, False, False, False],\n",
       "       [False,  True,  True,  True],\n",
       "       [ True,  True,  True,  True]])"
      ]
     },
     "execution_count": 20,
     "metadata": {},
     "output_type": "execute_result"
    }
   ],
   "source": [
    "b = arr>4\n",
    "b"
   ]
  },
  {
   "cell_type": "code",
   "execution_count": 21,
   "id": "c523b758-44d5-4c03-b694-d0c8b37e9c6b",
   "metadata": {},
   "outputs": [
    {
     "data": {
      "text/plain": [
       "array([ 5,  6,  7,  8,  9, 10, 11])"
      ]
     },
     "execution_count": 21,
     "metadata": {},
     "output_type": "execute_result"
    }
   ],
   "source": [
    "arr[b]"
   ]
  },
  {
   "cell_type": "code",
   "execution_count": 22,
   "id": "bf434777-221a-41b0-9aa7-0539f79b584a",
   "metadata": {},
   "outputs": [
    {
     "data": {
      "text/plain": [
       "array([[ 0,  1,  2,  3],\n",
       "       [ 4, 69, 69, 69],\n",
       "       [69, 69, 69, 69]])"
      ]
     },
     "execution_count": 22,
     "metadata": {},
     "output_type": "execute_result"
    }
   ],
   "source": [
    "arr[b] =69\n",
    "arr"
   ]
  }
 ],
 "metadata": {
  "kernelspec": {
   "display_name": "Python 3 (ipykernel)",
   "language": "python",
   "name": "python3"
  },
  "language_info": {
   "codemirror_mode": {
    "name": "ipython",
    "version": 3
   },
   "file_extension": ".py",
   "mimetype": "text/x-python",
   "name": "python",
   "nbconvert_exporter": "python",
   "pygments_lexer": "ipython3",
   "version": "3.12.2"
  }
 },
 "nbformat": 4,
 "nbformat_minor": 5
}
